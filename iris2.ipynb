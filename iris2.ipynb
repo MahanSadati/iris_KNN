{
 "cells": [
  {
   "cell_type": "code",
   "id": "initial_id",
   "metadata": {
    "collapsed": true,
    "ExecuteTime": {
     "end_time": "2025-08-30T03:35:04.565549Z",
     "start_time": "2025-08-30T03:35:04.560125Z"
    }
   },
   "source": "import numpy as np",
   "outputs": [],
   "execution_count": 72
  },
  {
   "metadata": {},
   "cell_type": "markdown",
   "source": "import train samples",
   "id": "6041a0288efd06b8"
  },
  {
   "metadata": {
    "ExecuteTime": {
     "end_time": "2025-08-30T03:35:04.592610Z",
     "start_time": "2025-08-30T03:35:04.583469Z"
    }
   },
   "cell_type": "code",
   "source": [
    "train_irises = np.load('irises.npy')\n",
    "train_irises.shape"
   ],
   "id": "9b1fa1bd6e354d49",
   "outputs": [
    {
     "data": {
      "text/plain": [
       "(120, 4)"
      ]
     },
     "execution_count": 73,
     "metadata": {},
     "output_type": "execute_result"
    }
   ],
   "execution_count": 73
  },
  {
   "metadata": {
    "ExecuteTime": {
     "end_time": "2025-08-30T03:35:04.661234Z",
     "start_time": "2025-08-30T03:35:04.651833Z"
    }
   },
   "cell_type": "code",
   "source": [
    "train_types = np.load('types.npy')\n",
    "train_types"
   ],
   "id": "8e0abe4c09761952",
   "outputs": [
    {
     "data": {
      "text/plain": [
       "array([0, 0, 0, 0, 0, 0, 0, 0, 0, 0, 0, 0, 0, 0, 0, 0, 0, 0, 0, 0, 0, 0,\n",
       "       0, 0, 0, 0, 0, 0, 0, 0, 0, 0, 0, 0, 0, 0, 0, 0, 0, 0, 1, 1, 1, 1,\n",
       "       1, 1, 1, 1, 1, 1, 1, 1, 1, 1, 1, 1, 1, 1, 1, 1, 1, 1, 1, 1, 1, 1,\n",
       "       1, 1, 1, 1, 1, 1, 1, 1, 1, 1, 1, 1, 1, 1, 2, 2, 2, 2, 2, 2, 2, 2,\n",
       "       2, 2, 2, 2, 2, 2, 2, 2, 2, 2, 2, 2, 2, 2, 2, 2, 2, 2, 2, 2, 2, 2,\n",
       "       2, 2, 2, 2, 2, 2, 2, 2, 2, 2])"
      ]
     },
     "execution_count": 74,
     "metadata": {},
     "output_type": "execute_result"
    }
   ],
   "execution_count": 74
  },
  {
   "metadata": {},
   "cell_type": "markdown",
   "source": "import test samples",
   "id": "3a84dd6a12c93cc7"
  },
  {
   "metadata": {
    "ExecuteTime": {
     "end_time": "2025-08-30T03:35:04.726278Z",
     "start_time": "2025-08-30T03:35:04.716215Z"
    }
   },
   "cell_type": "code",
   "outputs": [
    {
     "data": {
      "text/plain": [
       "array([[5. , 3.6, 1.4, 0.2],\n",
       "       [4.9, 3.1, 1.5, 0.1],\n",
       "       [5.8, 4. , 1.2, 0.2],\n",
       "       [5.1, 3.8, 1.5, 0.3],\n",
       "       [4.8, 3.4, 1.9, 0.2],\n",
       "       [4.7, 3.2, 1.6, 0.2],\n",
       "       [4.9, 3.1, 1.5, 0.1],\n",
       "       [5.1, 3.4, 1.5, 0.2],\n",
       "       [5.1, 3.8, 1.9, 0.4],\n",
       "       [5. , 3.3, 1.4, 0.2],\n",
       "       [6.5, 2.8, 4.6, 1.5],\n",
       "       [5.2, 2.7, 3.9, 1.4],\n",
       "       [5.6, 2.9, 3.6, 1.3],\n",
       "       [5.6, 2.5, 3.9, 1.1],\n",
       "       [6.4, 2.9, 4.3, 1.3],\n",
       "       [5.7, 2.6, 3.5, 1. ],\n",
       "       [5.4, 3. , 4.5, 1.5],\n",
       "       [5.5, 2.5, 4. , 1.3],\n",
       "       [5.6, 2.7, 4.2, 1.3],\n",
       "       [5.7, 2.8, 4.1, 1.3],\n",
       "       [6.5, 3. , 5.8, 2.2],\n",
       "       [7.2, 3.6, 6.1, 2.5],\n",
       "       [5.8, 2.8, 5.1, 2.4],\n",
       "       [6. , 2.2, 5. , 1.5],\n",
       "       [6.7, 3.3, 5.7, 2.1],\n",
       "       [7.2, 3. , 5.8, 1.6],\n",
       "       [6.1, 2.6, 5.6, 1.4],\n",
       "       [6.9, 3.1, 5.4, 2.1],\n",
       "       [6.7, 3.3, 5.7, 2.5],\n",
       "       [5.9, 3. , 5.1, 1.8]])"
      ]
     },
     "execution_count": 75,
     "metadata": {},
     "output_type": "execute_result"
    }
   ],
   "execution_count": 75,
   "source": [
    "test_irises = np.load('new_irises.npy')\n",
    "test_irises"
   ],
   "id": "68116718ed3cbabe"
  },
  {
   "metadata": {},
   "cell_type": "markdown",
   "source": "K-N-N algorithm",
   "id": "b1f202e754397ccd"
  },
  {
   "metadata": {
    "ExecuteTime": {
     "end_time": "2025-08-30T03:46:56.190437Z",
     "start_time": "2025-08-30T03:46:56.175305Z"
    }
   },
   "cell_type": "code",
   "source": [
    "from scipy import stats\n",
    "# calculate Euclidean distance within each test and train sample using vectorized operations and reshaping\n",
    "answers = np.sqrt(np.sum(np.square(np.subtract(train_irises.reshape(1,120,4) , test_irises.reshape(30,1,4))),axis = 2))\n",
    "# find k nearest neighbors ( index of k minimum Euclidean distances for each test sample)\n",
    "k = 5\n",
    "answers = np.argsort(answers)[: , :k]\n",
    "# find type of k nearest neighbors for each test sample\n",
    "answers = train_types[answers]\n",
    "# find most frequent type in k nearest neighbors for each test sample\n",
    "answers = stats.mode(answers , axis = 1)[0]\n",
    "answers"
   ],
   "id": "2cf440d29ee40b1e",
   "outputs": [
    {
     "data": {
      "text/plain": [
       "array([0, 0, 0, 0, 0, 0, 0, 0, 0, 0, 1, 1, 1, 1, 1, 1, 1, 1, 1, 1, 2, 2,\n",
       "       2, 1, 2, 2, 2, 2, 2, 2])"
      ]
     },
     "execution_count": 82,
     "metadata": {},
     "output_type": "execute_result"
    }
   ],
   "execution_count": 82
  },
  {
   "metadata": {},
   "cell_type": "markdown",
   "source": "type of samples ecording to dataset",
   "id": "47550f34ec29a150"
  },
  {
   "metadata": {
    "ExecuteTime": {
     "end_time": "2025-08-30T03:35:04.808407Z",
     "start_time": "2025-08-30T03:35:04.799871Z"
    }
   },
   "cell_type": "code",
   "outputs": [
    {
     "data": {
      "text/plain": [
       "array([0, 0, 0, 0, 0, 0, 0, 0, 0, 0, 1, 1, 1, 1, 1, 1, 1, 1, 1, 1, 2, 2,\n",
       "       2, 2, 2, 2, 2, 2, 2, 2])"
      ]
     },
     "execution_count": 76,
     "metadata": {},
     "output_type": "execute_result"
    }
   ],
   "execution_count": 76,
   "source": [
    "test_types = np.load(\"new_types.npy\")\n",
    "test_types"
   ],
   "id": "e4a5c41d09b90075"
  }
 ],
 "metadata": {
  "kernelspec": {
   "display_name": "Python 3",
   "language": "python",
   "name": "python3"
  },
  "language_info": {
   "codemirror_mode": {
    "name": "ipython",
    "version": 2
   },
   "file_extension": ".py",
   "mimetype": "text/x-python",
   "name": "python",
   "nbconvert_exporter": "python",
   "pygments_lexer": "ipython2",
   "version": "2.7.6"
  }
 },
 "nbformat": 4,
 "nbformat_minor": 5
}
